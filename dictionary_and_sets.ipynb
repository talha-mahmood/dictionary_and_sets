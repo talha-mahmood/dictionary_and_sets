{
  "nbformat": 4,
  "nbformat_minor": 0,
  "metadata": {
    "colab": {
      "provenance": []
    },
    "kernelspec": {
      "name": "python3",
      "display_name": "Python 3"
    },
    "language_info": {
      "name": "python"
    }
  },
  "cells": [
    {
      "cell_type": "markdown",
      "source": [
        "Dictionary Exercises\n",
        "1. Create a Dictionary:\n",
        "o Create a dictionary to store the names and ages of five people. Print the\n",
        "dictionary.\n",
        "2. Accessing Values:\n",
        "o Given a dictionary with student names as keys and their grades as values, print the\n",
        "grade of the student named &quot;Alice&quot;:\n",
        "students_grades = {&quot;John&quot;: &quot;A&quot;, &quot;Alice&quot;: &quot;B&quot;, &quot;Bob&quot;: &quot;C&quot;,\n",
        "&quot;Diana&quot;: &quot;A&quot;}\n",
        "3. Update a Dictionary:\n",
        "o Update the age of one person in the dictionary you created in Exercise 1. Print the\n",
        "updated dictionary.\n",
        "4. Add New Key-Value Pairs:\n",
        "o Add a new person to the dictionary created in Exercise 1. Print the updated\n",
        "dictionary.\n",
        "5. Delete a Key-Value Pair:\n",
        "o Remove one person from the dictionary created in Exercise 1. Print the updated\n",
        "dictionary.\n",
        "6. Check for Key Existence:\n",
        "o Check if a specific key (name) exists in the dictionary from Exercise 1. Print an\n",
        "appropriate message based on whether the key exists or not.\n",
        "\n",
        "7. Iterate Through a Dictionary:\n",
        "o Iterate through the dictionary from Exercise 1 and print each key-value pair.\n",
        "8. Dictionary Length:\n",
        "o Find and print the number of key-value pairs in the dictionary from Exercise 1.\n",
        "9. Copy a Dictionary:\n",
        "o Create a copy of the dictionary from Exercise 1. Modify the copy and print both\n",
        "the original and the modified copy.\n",
        "\n",
        "10. Nested Dictionary:\n",
        "o Create a dictionary that stores the information of three people. Each person should\n",
        "have a nested dictionary containing their age, address, and phone number. Print\n",
        "the nested dictionary.\n",
        "11. Merge Dictionaries:\n",
        "o Merge two dictionaries into one. Print the result.\n",
        "12. Dictionary of Lists:\n",
        "o Create a dictionary where the keys are the names of students and the values are\n",
        "lists of their grades. Print the dictionary.\n",
        "\n",
        "13. Dictionary Comprehension:\n",
        "o Use dictionary comprehension to create a dictionary where the keys are numbers\n",
        "from 1 to 10 and the values are the squares of these numbers.\n",
        "\n",
        "14. From User Input:\n",
        "o Write a script to create a dictionary by taking name and age as input from the user\n",
        "for five people. Print the dictionary.\n",
        "\n",
        "15. Count Occurrences:\n",
        "\n",
        "o Given a string, count the occurrences of each character using a dictionary. Print\n",
        "the dictionary.\n",
        "16. Reverse Lookup:\n",
        "o Given a dictionary of names and ages, write a script to find and print the names of\n",
        "people with a specific age.\n",
        "\n",
        "17. Sum Values:\n",
        "o Given a dictionary with numerical values, calculate and print the sum of the\n",
        "values.\n",
        "18. Top Student:\n",
        "o Given a dictionary of student names and their grades, find and print the name of\n",
        "the student with the highest grade.\n",
        "\n",
        "19. Unique Values:\n",
        "o Write a script to print all unique values in a dictionary.\n",
        "20. Default Dictionary:\n",
        "o Use collections.defaultdict to create a dictionary that automatically assigns\n",
        "a default value of 0 to any key that does not exist. Add some values and print the\n",
        "dictionary.\n",
        "\n",
        "21. Dictionary from Two Lists:\n",
        "o Create a dictionary from two lists: one containing keys and the other containing\n",
        "values. Print the dictionary.\n",
        "\n",
        "22. Group by Category:\n",
        "o Given a list of products, each with a name and category, group the products by\n",
        "category in a dictionary and print it.\n",
        "\n",
        "23. Dictionary to List:\n",
        "o Convert a dictionary into two lists: one for keys and one for values. Print both\n",
        "lists.\n",
        "24. Filter Dictionary:\n",
        " Write a script to filter a dictionary by retaining only those key-value pairs where the\n",
        "value is greater than a specified threshold. Print the filtered dictionary.\n",
        "25. Sorted Dictionary:\n",
        " Write a script to sort a dictionary by its keys and then by its values, and print the\n",
        "sorted dictionary.\n",
        "\n",
        "Set Exercises\n",
        "26. Create a Set:\n",
        "o Create a set containing the names of five fruits. Print the set.\n",
        "27. Add an Element:\n",
        "o Add a new fruit to the set you created in Exercise 1. Print the updated set.\n",
        "28. Remove an Element:\n",
        "o Remove a fruit from the set you created in Exercise 1. Print the updated set.\n",
        "29. Check Membership:\n",
        "o Write a script to check if a specific fruit is in the set created in Exercise 1. Print an\n",
        "appropriate message.\n",
        "\n",
        "30. Union of Sets:\n",
        "o Create two sets of fruits and find their union. Print the resulting set.\n",
        "31. Intersection of Sets:\n",
        "o Create two sets of fruits and find their intersection. Print the resulting set.\n",
        "32. Difference of Sets:\n",
        "o Create two sets of fruits and find the difference between them. Print the resulting\n",
        "set.\n",
        "\n",
        "33. Symmetric Difference of Sets:\n",
        "o Create two sets of fruits and find their symmetric difference. Print the resulting\n",
        "set.\n",
        "34. Subset Check:\n",
        "o Write a script to check if one set is a subset of another. Print an appropriate\n",
        "message.\n",
        "35. Superset Check:\n",
        "o Write a script to check if one set is a superset of another. Print an appropriate\n",
        "message.\n",
        "36. Iterate Through a Set:\n",
        "o Write a script to iterate through a set and print each element.\n",
        "37. Set Length:\n",
        "o Write a script to find and print the number of elements in a set.\n",
        "38. Remove Duplicates:\n",
        "o Given a list of numbers, write a script to remove duplicates by converting the list\n",
        "to a set. Print the resulting set."
      ],
      "metadata": {
        "id": "GPJb2EBOaQ4y"
      }
    },
    {
      "cell_type": "code",
      "source": [
        "string = \"hello world\"\n",
        "occurrences = {}\n",
        "for char in string:\n",
        "    occurrences[char] = occurrences.get(char, 0) + 1\n",
        "print(\"Character occurrences:\", occurrences)\n"
      ],
      "metadata": {
        "colab": {
          "base_uri": "https://localhost:8080/"
        },
        "id": "zRFd9K5VbgwP",
        "outputId": "02f02691-eddd-45a3-c52e-34afb8155426"
      },
      "execution_count": 1,
      "outputs": [
        {
          "output_type": "stream",
          "name": "stdout",
          "text": [
            "Character occurrences: {'h': 1, 'e': 1, 'l': 3, 'o': 2, ' ': 1, 'w': 1, 'r': 1, 'd': 1}\n"
          ]
        }
      ]
    },
    {
      "cell_type": "code",
      "source": [
        "names_ages = {\"Alice\": 25, \"Bob\": 30, \"Charlie\": 25, \"David\": 22}\n",
        "specific_age = 25\n",
        "names_with_specific_age = [name for name, age in names_ages.items() if age == specific_age]\n",
        "print(\"Names with age\", specific_age, \":\", names_with_specific_age)\n"
      ],
      "metadata": {
        "colab": {
          "base_uri": "https://localhost:8080/"
        },
        "id": "tms1O7t8bg0x",
        "outputId": "2a3f344f-838b-4920-90c1-0bf3002a1a30"
      },
      "execution_count": 2,
      "outputs": [
        {
          "output_type": "stream",
          "name": "stdout",
          "text": [
            "Names with age 25 : ['Alice', 'Charlie']\n"
          ]
        }
      ]
    },
    {
      "cell_type": "code",
      "source": [
        "values_dict = {\"a\": 10, \"b\": 20, \"c\": 30}\n",
        "total_sum = sum(values_dict.values())\n",
        "print(\"Sum of values:\", total_sum)\n"
      ],
      "metadata": {
        "colab": {
          "base_uri": "https://localhost:8080/"
        },
        "id": "5HiZMz25bg3m",
        "outputId": "9fee0e1b-5edb-4f4c-d0c8-7fe44eb8c952"
      },
      "execution_count": 3,
      "outputs": [
        {
          "output_type": "stream",
          "name": "stdout",
          "text": [
            "Sum of values: 60\n"
          ]
        }
      ]
    },
    {
      "cell_type": "code",
      "source": [
        "student_grades = {\"Alice\": 85, \"Bob\": 92, \"Charlie\": 87}\n",
        "top_student = max(student_grades, key=student_grades.get)\n",
        "print(\"Top student:\", top_student, \"with grade:\", student_grades[top_student])\n"
      ],
      "metadata": {
        "colab": {
          "base_uri": "https://localhost:8080/"
        },
        "id": "icKwmXcdbg6m",
        "outputId": "a17370f8-7077-4b89-cfc0-820adeaeacf1"
      },
      "execution_count": 4,
      "outputs": [
        {
          "output_type": "stream",
          "name": "stdout",
          "text": [
            "Top student: Bob with grade: 92\n"
          ]
        }
      ]
    },
    {
      "cell_type": "code",
      "source": [
        "values_dict = {\"a\": 1, \"b\": 2, \"c\": 2, \"d\": 3}\n",
        "unique_values = set(values_dict.values())\n",
        "print(\"Unique values in dictionary:\", unique_values)\n"
      ],
      "metadata": {
        "colab": {
          "base_uri": "https://localhost:8080/"
        },
        "id": "ml490UeDbg-5",
        "outputId": "543f559d-8507-4d44-840c-4c7581b1d82c"
      },
      "execution_count": 5,
      "outputs": [
        {
          "output_type": "stream",
          "name": "stdout",
          "text": [
            "Unique values in dictionary: {1, 2, 3}\n"
          ]
        }
      ]
    },
    {
      "cell_type": "code",
      "source": [
        "from collections import defaultdict\n",
        "\n",
        "default_dict = defaultdict(lambda: 0)\n",
        "default_dict[\"a\"] += 5\n",
        "default_dict[\"b\"] += 10\n",
        "print(\"Default dictionary:\", dict(default_dict))\n"
      ],
      "metadata": {
        "colab": {
          "base_uri": "https://localhost:8080/"
        },
        "id": "MMQuZvlVbhCs",
        "outputId": "05183f2e-2d0d-4922-9e56-d1230b5a67b1"
      },
      "execution_count": 6,
      "outputs": [
        {
          "output_type": "stream",
          "name": "stdout",
          "text": [
            "Default dictionary: {'a': 5, 'b': 10}\n"
          ]
        }
      ]
    },
    {
      "cell_type": "code",
      "source": [
        "keys = [\"a\", \"b\", \"c\"]\n",
        "values = [1, 2, 3]\n",
        "dictionary = dict(zip(keys, values))\n",
        "print(\"Dictionary from two lists:\", dictionary)\n"
      ],
      "metadata": {
        "colab": {
          "base_uri": "https://localhost:8080/"
        },
        "id": "scPGCsEbbhFm",
        "outputId": "5c7161a9-fc71-44bb-fe9a-289cd211efad"
      },
      "execution_count": 7,
      "outputs": [
        {
          "output_type": "stream",
          "name": "stdout",
          "text": [
            "Dictionary from two lists: {'a': 1, 'b': 2, 'c': 3}\n"
          ]
        }
      ]
    },
    {
      "cell_type": "code",
      "source": [
        "products = [\n",
        "    {\"name\": \"Apple\", \"category\": \"Fruit\"},\n",
        "    {\"name\": \"Carrot\", \"category\": \"Vegetable\"},\n",
        "    {\"name\": \"Banana\", \"category\": \"Fruit\"},\n",
        "    {\"name\": \"Broccoli\", \"category\": \"Vegetable\"}\n",
        "]\n",
        "category_dict = {}\n",
        "for product in products:\n",
        "    category = product[\"category\"]\n",
        "    if category not in category_dict:\n",
        "        category_dict[category] = []\n",
        "    category_dict[category].append(product[\"name\"])\n",
        "print(\"Products grouped by category:\", category_dict)\n"
      ],
      "metadata": {
        "colab": {
          "base_uri": "https://localhost:8080/"
        },
        "id": "0LaYRPoybhKR",
        "outputId": "01df6e8d-322d-4fa8-dd29-421d1bf67961"
      },
      "execution_count": 8,
      "outputs": [
        {
          "output_type": "stream",
          "name": "stdout",
          "text": [
            "Products grouped by category: {'Fruit': ['Apple', 'Banana'], 'Vegetable': ['Carrot', 'Broccoli']}\n"
          ]
        }
      ]
    },
    {
      "cell_type": "code",
      "source": [
        "my_dict = {\"a\": 1, \"b\": 2, \"c\": 3}\n",
        "keys_list = list(my_dict.keys())\n",
        "values_list = list(my_dict.values())\n",
        "print(\"Keys:\", keys_list)\n",
        "print(\"Values:\", values_list)\n"
      ],
      "metadata": {
        "colab": {
          "base_uri": "https://localhost:8080/"
        },
        "id": "SNR9-fsrbhNg",
        "outputId": "601b95ea-d861-4b02-cdf3-60878fb40aa1"
      },
      "execution_count": 9,
      "outputs": [
        {
          "output_type": "stream",
          "name": "stdout",
          "text": [
            "Keys: ['a', 'b', 'c']\n",
            "Values: [1, 2, 3]\n"
          ]
        }
      ]
    },
    {
      "cell_type": "code",
      "source": [
        "my_dict = {\"a\": 10, \"b\": 5, \"c\": 20}\n",
        "threshold = 10\n",
        "filtered_dict = {key: value for key, value in my_dict.items() if value > threshold}\n",
        "print(\"Filtered dictionary:\", filtered_dict)\n"
      ],
      "metadata": {
        "colab": {
          "base_uri": "https://localhost:8080/"
        },
        "id": "nRGHQjOLbhRI",
        "outputId": "9bbe4b08-f90a-4f70-c41b-a0f10bbb4710"
      },
      "execution_count": 10,
      "outputs": [
        {
          "output_type": "stream",
          "name": "stdout",
          "text": [
            "Filtered dictionary: {'c': 20}\n"
          ]
        }
      ]
    },
    {
      "cell_type": "code",
      "source": [
        "my_dict = {\"c\": 3, \"a\": 1, \"b\": 2}\n",
        "sorted_by_keys = dict(sorted(my_dict.items()))\n",
        "sorted_by_values = dict(sorted(my_dict.items(), key=lambda item: item[1]))\n",
        "print(\"Dictionary sorted by keys:\", sorted_by_keys)\n",
        "print(\"Dictionary sorted by values:\", sorted_by_values)\n"
      ],
      "metadata": {
        "colab": {
          "base_uri": "https://localhost:8080/"
        },
        "id": "N3o5gdUBbhU1",
        "outputId": "d6fe2aed-d9fc-41df-dd9d-5c2c2f75b9d2"
      },
      "execution_count": 11,
      "outputs": [
        {
          "output_type": "stream",
          "name": "stdout",
          "text": [
            "Dictionary sorted by keys: {'a': 1, 'b': 2, 'c': 3}\n",
            "Dictionary sorted by values: {'a': 1, 'b': 2, 'c': 3}\n"
          ]
        }
      ]
    },
    {
      "cell_type": "code",
      "source": [
        "fruits = {\"apple\", \"banana\", \"cherry\", \"date\", \"elderberry\"}\n",
        "print(\"Set of fruits:\", fruits)\n"
      ],
      "metadata": {
        "colab": {
          "base_uri": "https://localhost:8080/"
        },
        "id": "6amFwg3ogGXT",
        "outputId": "030956d2-dd94-4e10-cedb-567f14812a19"
      },
      "execution_count": 12,
      "outputs": [
        {
          "output_type": "stream",
          "name": "stdout",
          "text": [
            "Set of fruits: {'apple', 'cherry', 'elderberry', 'date', 'banana'}\n"
          ]
        }
      ]
    },
    {
      "cell_type": "code",
      "source": [
        "fruits.add(\"fig\")\n",
        "print(\"Set after adding a fruit:\", fruits)\n"
      ],
      "metadata": {
        "colab": {
          "base_uri": "https://localhost:8080/"
        },
        "id": "qC5h7bYjgLmk",
        "outputId": "75d9500a-c93d-4e7d-f4eb-d24098548044"
      },
      "execution_count": 13,
      "outputs": [
        {
          "output_type": "stream",
          "name": "stdout",
          "text": [
            "Set after adding a fruit: {'apple', 'cherry', 'fig', 'elderberry', 'date', 'banana'}\n"
          ]
        }
      ]
    },
    {
      "cell_type": "code",
      "source": [
        "fruits.remove(\"banana\")\n",
        "print(\"Set after removing a fruit:\", fruits)\n"
      ],
      "metadata": {
        "colab": {
          "base_uri": "https://localhost:8080/"
        },
        "id": "wK1W-r0ygNe8",
        "outputId": "0ce30875-803c-455f-a1f9-cf101c48af29"
      },
      "execution_count": 14,
      "outputs": [
        {
          "output_type": "stream",
          "name": "stdout",
          "text": [
            "Set after removing a fruit: {'apple', 'cherry', 'fig', 'elderberry', 'date'}\n"
          ]
        }
      ]
    },
    {
      "cell_type": "code",
      "source": [
        "fruit_to_check = \"apple\"\n",
        "if fruit_to_check in fruits:\n",
        "    print(f\"{fruit_to_check} is in the set.\")\n",
        "else:\n",
        "    print(f\"{fruit_to_check} is not in the set.\")\n"
      ],
      "metadata": {
        "colab": {
          "base_uri": "https://localhost:8080/"
        },
        "id": "mwpJ3XvWgQV5",
        "outputId": "dd619745-4fc3-4df8-fcb2-75305559b598"
      },
      "execution_count": 15,
      "outputs": [
        {
          "output_type": "stream",
          "name": "stdout",
          "text": [
            "apple is in the set.\n"
          ]
        }
      ]
    },
    {
      "cell_type": "code",
      "source": [
        "fruits1 = {\"apple\", \"banana\", \"cherry\"}\n",
        "fruits2 = {\"date\", \"elderberry\", \"fig\"}\n",
        "union_set = fruits1.union(fruits2)\n",
        "print(\"Union of sets:\", union_set)\n"
      ],
      "metadata": {
        "colab": {
          "base_uri": "https://localhost:8080/"
        },
        "id": "_rgPwE9AgSJO",
        "outputId": "0f058e7d-166f-4410-9d03-b8dcb9a9f43d"
      },
      "execution_count": 16,
      "outputs": [
        {
          "output_type": "stream",
          "name": "stdout",
          "text": [
            "Union of sets: {'cherry', 'fig', 'elderberry', 'date', 'apple', 'banana'}\n"
          ]
        }
      ]
    },
    {
      "cell_type": "code",
      "source": [
        "fruits1 = {\"apple\", \"banana\", \"cherry\"}\n",
        "fruits2 = {\"banana\", \"cherry\", \"fig\"}\n",
        "intersection_set = fruits1.intersection(fruits2)\n",
        "print(\"Intersection of sets:\", intersection_set)\n"
      ],
      "metadata": {
        "colab": {
          "base_uri": "https://localhost:8080/"
        },
        "id": "wyd673YsgTwH",
        "outputId": "efa6ee65-6461-4493-812f-41ebca6ea791"
      },
      "execution_count": 17,
      "outputs": [
        {
          "output_type": "stream",
          "name": "stdout",
          "text": [
            "Intersection of sets: {'cherry', 'banana'}\n"
          ]
        }
      ]
    },
    {
      "cell_type": "code",
      "source": [
        "difference_set = fruits1.difference(fruits2)\n",
        "print(\"Difference of sets:\", difference_set)\n"
      ],
      "metadata": {
        "colab": {
          "base_uri": "https://localhost:8080/"
        },
        "id": "_W0Htr_DgVR-",
        "outputId": "42aba2c1-6ceb-428b-9583-77856f0c8918"
      },
      "execution_count": 18,
      "outputs": [
        {
          "output_type": "stream",
          "name": "stdout",
          "text": [
            "Difference of sets: {'apple'}\n"
          ]
        }
      ]
    },
    {
      "cell_type": "code",
      "source": [
        "symmetric_difference_set = fruits1.symmetric_difference(fruits2)\n",
        "print(\"Symmetric difference of sets:\", symmetric_difference_set)\n"
      ],
      "metadata": {
        "colab": {
          "base_uri": "https://localhost:8080/"
        },
        "id": "WF_K6OnUgW4V",
        "outputId": "cc643414-82e7-411b-84c7-427b338475bc"
      },
      "execution_count": 19,
      "outputs": [
        {
          "output_type": "stream",
          "name": "stdout",
          "text": [
            "Symmetric difference of sets: {'apple', 'fig'}\n"
          ]
        }
      ]
    },
    {
      "cell_type": "code",
      "source": [
        "fruits3 = {\"apple\", \"banana\"}\n",
        "if fruits3.issubset(fruits1):\n",
        "    print(\"The set is a subset.\")\n",
        "else:\n",
        "    print(\"The set is not a subset.\")\n"
      ],
      "metadata": {
        "colab": {
          "base_uri": "https://localhost:8080/"
        },
        "id": "OBYgSmyfgYUD",
        "outputId": "318278a0-6bed-4069-cd6b-fc9b7203f0bb"
      },
      "execution_count": 20,
      "outputs": [
        {
          "output_type": "stream",
          "name": "stdout",
          "text": [
            "The set is a subset.\n"
          ]
        }
      ]
    },
    {
      "cell_type": "code",
      "source": [
        "if fruits1.issuperset(fruits3):\n",
        "    print(\"The set is a superset.\")\n",
        "else:\n",
        "    print(\"The set is not a superset.\")\n"
      ],
      "metadata": {
        "colab": {
          "base_uri": "https://localhost:8080/"
        },
        "id": "wpkccz_SglYr",
        "outputId": "3e11f95e-3e55-4339-a52f-649ceaf7b459"
      },
      "execution_count": 21,
      "outputs": [
        {
          "output_type": "stream",
          "name": "stdout",
          "text": [
            "The set is a superset.\n"
          ]
        }
      ]
    },
    {
      "cell_type": "code",
      "source": [],
      "metadata": {
        "id": "y02jey6Vgnf1"
      },
      "execution_count": null,
      "outputs": []
    }
  ]
}